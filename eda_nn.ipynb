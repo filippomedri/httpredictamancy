{
 "cells": [
  {
   "cell_type": "code",
   "execution_count": 1,
   "metadata": {},
   "outputs": [],
   "source": [
    "import pandas as pd\n",
    "import numpy as np\n",
    "import matplotlib.pyplot as plt\n",
    "%matplotlib inline\n",
    "\n",
    "import seaborn as sns\n",
    "sns.set()\n",
    "\n"
   ]
  },
  {
   "cell_type": "code",
   "execution_count": 2,
   "metadata": {},
   "outputs": [],
   "source": [
    "df = pd.read_csv('requests_ts.csv', parse_dates=['timestamp'], index_col='timestamp')\n",
    "request_series = pd.Series(df['requests'])\n",
    "transpose_request_series = request_series.to_frame().T"
   ]
  },
  {
   "cell_type": "code",
   "execution_count": 3,
   "metadata": {},
   "outputs": [
    {
     "data": {
      "text/html": [
       "<div>\n",
       "<style scoped>\n",
       "    .dataframe tbody tr th:only-of-type {\n",
       "        vertical-align: middle;\n",
       "    }\n",
       "\n",
       "    .dataframe tbody tr th {\n",
       "        vertical-align: top;\n",
       "    }\n",
       "\n",
       "    .dataframe thead th {\n",
       "        text-align: right;\n",
       "    }\n",
       "</style>\n",
       "<table border=\"1\" class=\"dataframe\">\n",
       "  <thead>\n",
       "    <tr style=\"text-align: right;\">\n",
       "      <th>timestamp</th>\n",
       "      <th>1995-06-01 00:00:00</th>\n",
       "      <th>1995-06-01 01:00:00</th>\n",
       "      <th>1995-06-01 02:00:00</th>\n",
       "      <th>1995-06-01 03:00:00</th>\n",
       "      <th>1995-06-01 04:00:00</th>\n",
       "      <th>1995-06-01 05:00:00</th>\n",
       "      <th>1995-06-01 06:00:00</th>\n",
       "      <th>1995-06-01 07:00:00</th>\n",
       "      <th>1995-06-01 08:00:00</th>\n",
       "      <th>1995-06-01 09:00:00</th>\n",
       "      <th>...</th>\n",
       "      <th>1995-12-31 14:00:00</th>\n",
       "      <th>1995-12-31 15:00:00</th>\n",
       "      <th>1995-12-31 16:00:00</th>\n",
       "      <th>1995-12-31 17:00:00</th>\n",
       "      <th>1995-12-31 18:00:00</th>\n",
       "      <th>1995-12-31 19:00:00</th>\n",
       "      <th>1995-12-31 20:00:00</th>\n",
       "      <th>1995-12-31 21:00:00</th>\n",
       "      <th>1995-12-31 22:00:00</th>\n",
       "      <th>1995-12-31 23:00:00</th>\n",
       "    </tr>\n",
       "  </thead>\n",
       "  <tbody>\n",
       "    <tr>\n",
       "      <th>requests</th>\n",
       "      <td>65</td>\n",
       "      <td>16</td>\n",
       "      <td>37</td>\n",
       "      <td>76</td>\n",
       "      <td>57</td>\n",
       "      <td>70</td>\n",
       "      <td>94</td>\n",
       "      <td>70</td>\n",
       "      <td>144</td>\n",
       "      <td>155</td>\n",
       "      <td>...</td>\n",
       "      <td>300</td>\n",
       "      <td>361</td>\n",
       "      <td>240</td>\n",
       "      <td>222</td>\n",
       "      <td>253</td>\n",
       "      <td>233</td>\n",
       "      <td>166</td>\n",
       "      <td>186</td>\n",
       "      <td>140</td>\n",
       "      <td>139</td>\n",
       "    </tr>\n",
       "  </tbody>\n",
       "</table>\n",
       "<p>1 rows × 5105 columns</p>\n",
       "</div>"
      ],
      "text/plain": [
       "timestamp  1995-06-01 00:00:00  1995-06-01 01:00:00  1995-06-01 02:00:00  \\\n",
       "requests                    65                   16                   37   \n",
       "\n",
       "timestamp  1995-06-01 03:00:00  1995-06-01 04:00:00  1995-06-01 05:00:00  \\\n",
       "requests                    76                   57                   70   \n",
       "\n",
       "timestamp  1995-06-01 06:00:00  1995-06-01 07:00:00  1995-06-01 08:00:00  \\\n",
       "requests                    94                   70                  144   \n",
       "\n",
       "timestamp  1995-06-01 09:00:00         ...           1995-12-31 14:00:00  \\\n",
       "requests                   155         ...                           300   \n",
       "\n",
       "timestamp  1995-12-31 15:00:00  1995-12-31 16:00:00  1995-12-31 17:00:00  \\\n",
       "requests                   361                  240                  222   \n",
       "\n",
       "timestamp  1995-12-31 18:00:00  1995-12-31 19:00:00  1995-12-31 20:00:00  \\\n",
       "requests                   253                  233                  166   \n",
       "\n",
       "timestamp  1995-12-31 21:00:00  1995-12-31 22:00:00  1995-12-31 23:00:00  \n",
       "requests                   186                  140                  139  \n",
       "\n",
       "[1 rows x 5105 columns]"
      ]
     },
     "execution_count": 3,
     "metadata": {},
     "output_type": "execute_result"
    }
   ],
   "source": [
    "transpose_request_series.head()"
   ]
  },
  {
   "cell_type": "code",
   "execution_count": 4,
   "metadata": {},
   "outputs": [
    {
     "name": "stdout",
     "output_type": "stream",
     "text": [
      "<class 'pandas.core.frame.DataFrame'>\n",
      "Index: 1 entries, requests to requests\n",
      "Columns: 5105 entries, 1995-06-01 00:00:00 to 1995-12-31 23:00:00\n",
      "dtypes: int64(5105)\n",
      "memory usage: 39.9+ KB\n"
     ]
    }
   ],
   "source": [
    "transpose_request_series.info()"
   ]
  },
  {
   "cell_type": "code",
   "execution_count": 8,
   "metadata": {},
   "outputs": [
    {
     "name": "stdout",
     "output_type": "stream",
     "text": [
      "Data ranges from 1995-06-01 01:00:00 to 1995-12-31 23:00:00\n"
     ]
    }
   ],
   "source": [
    "data_start_date = transpose_request_series.columns[1]\n",
    "data_end_date = transpose_request_series.columns[-1]\n",
    "print('Data ranges from %s to %s' % (data_start_date, data_end_date))"
   ]
  },
  {
   "cell_type": "markdown",
   "metadata": {},
   "source": [
    "We can define a function that lets us visualize some random webpage series as below. For the sake of smoothing out the scale of traffic across different series, we apply a log1p transformation before plotting - i.e. take $\\log(1+x)$ for each value $x$ in a series."
   ]
  },
  {
   "cell_type": "code",
   "execution_count": 6,
   "metadata": {},
   "outputs": [
    {
     "data": {
      "image/png": "[encoded data removed]",
      "text/plain": [
       "<Figure size 720x432 with 1 Axes>"
      ]
     },
     "metadata": {},
     "output_type": "display_data"
    }
   ],
   "source": [
    "def plot_random_series(df, n_series):\n",
    "    \n",
    "    sample = df.sample(n_series, random_state=8)\n",
    "    series_samples = sample.loc[:,data_start_date:data_end_date]\n",
    "    \n",
    "    plt.figure(figsize=(10,6))\n",
    "    \n",
    "    for i in range(series_samples.shape[0]):\n",
    "        np.log1p(pd.Series(series_samples.iloc[i]).astype(np.float64)).plot(linewidth=1.5)\n",
    "    \n",
    "    plt.title('Randomly Selected Hourly Views Over Time (Log(views) + 1)')\n",
    "    \n",
    "plot_random_series(transpose_request_series, 1)"
   ]
  },
  {
   "cell_type": "markdown",
   "metadata": {},
   "source": [
    "Formatting for training"
   ]
  },
  {
   "cell_type": "code",
   "execution_count": 155,
   "metadata": {},
   "outputs": [],
   "source": [
    "from datetime import timedelta\n",
    "\n",
    "pred_steps = 24\n",
    "pred_length=timedelta(seconds = pred_steps*3600)\n",
    "\n",
    "first_day = pd.to_datetime(data_start_date) \n",
    "last_day = pd.to_datetime(data_end_date)\n",
    "\n",
    "val_pred_start = last_day - pred_length\n",
    "val_pred_end = last_day\n",
    "\n",
    "train_pred_start = val_pred_start - pred_length\n",
    "train_pred_end = val_pred_start - timedelta(days=1)"
   ]
  },
  {
   "cell_type": "code",
   "execution_count": 156,
   "metadata": {},
   "outputs": [],
   "source": [
    "enc_length = train_pred_start - first_day\n",
    "\n",
    "train_enc_start = first_day\n",
    "train_enc_end = train_enc_start + enc_length - timedelta(1)\n",
    "\n",
    "val_enc_start = train_enc_start + pred_length\n",
    "val_enc_end = val_enc_start + enc_length - timedelta(1)"
   ]
  },
  {
   "cell_type": "code",
   "execution_count": 157,
   "metadata": {},
   "outputs": [
    {
     "name": "stdout",
     "output_type": "stream",
     "text": [
      "Train encoding: 1995-06-01 01:00:00 - 1995-12-28 23:00:00\n",
      "Train prediction: 1995-12-29 23:00:00 - 1995-12-29 23:00:00 \n",
      "\n",
      "Val encoding: 1995-06-02 01:00:00 - 1995-12-29 23:00:00\n",
      "Val prediction: 1995-12-30 23:00:00 - 1995-12-31 23:00:00\n",
      "\n",
      "Encoding interval: 211\n",
      "Prediction interval: 1\n"
     ]
    }
   ],
   "source": [
    "print('Train encoding:', train_enc_start, '-', train_enc_end)\n",
    "print('Train prediction:', train_pred_start, '-', train_pred_end, '\\n')\n",
    "print('Val encoding:', val_enc_start, '-', val_enc_end)\n",
    "print('Val prediction:', val_pred_start, '-', val_pred_end)\n",
    "\n",
    "print('\\nEncoding interval:', enc_length.days)\n",
    "print('Prediction interval:', pred_length.days)"
   ]
  },
  {
   "cell_type": "markdown",
   "metadata": {},
   "source": [
    "# Data Preparation"
   ]
  },
  {
   "cell_type": "code",
   "execution_count": 158,
   "metadata": {},
   "outputs": [],
   "source": [
    "date_to_index = pd.Series(index=pd.Index([pd.to_datetime(c) for c in df.columns[1:]]),\n",
    "                          data=[i for i in range(len(df.columns[1:]))])\n",
    "\n",
    "series_array = df[df.columns[1:]].values\n",
    "\n"
   ]
  },
  {
   "cell_type": "markdown",
   "metadata": {},
   "source": [
    "# Keras Data Formatting"
   ]
  },
  {
   "cell_type": "code",
   "execution_count": 159,
   "metadata": {},
   "outputs": [],
   "source": [
    "date_to_index = df"
   ]
  },
  {
   "cell_type": "code",
   "execution_count": 160,
   "metadata": {},
   "outputs": [
    {
     "data": {
      "text/plain": [
       "(5105, 1)"
      ]
     },
     "execution_count": 160,
     "metadata": {},
     "output_type": "execute_result"
    }
   ],
   "source": [
    "df.values.shape"
   ]
  },
  {
   "cell_type": "code",
   "execution_count": 161,
   "metadata": {},
   "outputs": [],
   "source": [
    "series_array = df.values"
   ]
  },
  {
   "cell_type": "code",
   "execution_count": 162,
   "metadata": {},
   "outputs": [],
   "source": [
    "def get_time_block_series(series_array, date_to_index, start_date, end_date):\n",
    "    \n",
    "    inds = date_to_index[start_date:end_date]\n",
    "    return series_array[inds].swapaxes(0,1)\n",
    "\n",
    "def transform_series_encode(series_array):\n",
    "    \n",
    "    series_array = np.log1p(np.nan_to_num(series_array)) # filling NaN with 0\n",
    "    series_mean = series_array.mean(axis=1).reshape(-1,1) \n",
    "    series_array = series_array - series_mean\n",
    "    series_array = series_array.reshape((series_array.shape[0],series_array.shape[1], 1))\n",
    "    \n",
    "    return series_array, series_mean\n",
    "\n",
    "def transform_series_decode(series_array, encode_series_mean):\n",
    "    \n",
    "    series_array = np.log1p(np.nan_to_num(series_array)) # filling NaN with 0\n",
    "    series_array = series_array - encode_series_mean\n",
    "    series_array = series_array.reshape((series_array.shape[0],series_array.shape[1], 1))\n",
    "    \n",
    "    return series_array"
   ]
  },
  {
   "cell_type": "code",
   "execution_count": 163,
   "metadata": {},
   "outputs": [
    {
     "data": {
      "text/plain": [
       "(1, 5032, 1)"
      ]
     },
     "execution_count": 163,
     "metadata": {},
     "output_type": "execute_result"
    }
   ],
   "source": [
    "a = get_time_block_series(series_array,date_to_index,train_enc_start,train_enc_end)\n",
    "a.shape"
   ]
  },
  {
   "cell_type": "code",
   "execution_count": 164,
   "metadata": {},
   "outputs": [
    {
     "data": {
      "text/plain": [
       "(1, 5032, 1)"
      ]
     },
     "execution_count": 164,
     "metadata": {},
     "output_type": "execute_result"
    }
   ],
   "source": [
    "b = get_time_block_series(series_array,date_to_index,val_enc_start,val_enc_end)\n",
    "b.shape"
   ]
  },
  {
   "cell_type": "markdown",
   "metadata": {},
   "source": [
    "# Building the Model - Training Architecture"
   ]
  },
  {
   "cell_type": "code",
   "execution_count": 165,
   "metadata": {},
   "outputs": [],
   "source": [
    "from keras.models import Model\n",
    "from keras.layers import Input, LSTM, Dense\n",
    "from keras.optimizers import Adam\n",
    "\n",
    "latent_dim = 50 # LSTM hidden units\n",
    "dropout = .20 \n",
    "\n",
    "# Define an input series and encode it with an LSTM. \n",
    "encoder_inputs = Input(shape=(None, 1)) \n",
    "encoder = LSTM(latent_dim, dropout=dropout, return_state=True)\n",
    "encoder_outputs, state_h, state_c = encoder(encoder_inputs)\n",
    "\n",
    "# We discard `encoder_outputs` and only keep the final states. These represent the \"context\"\n",
    "# vector that we use as the basis for decoding.\n",
    "encoder_states = [state_h, state_c]\n",
    "\n",
    "# Set up the decoder, using `encoder_states` as initial state.\n",
    "# This is where teacher forcing inputs are fed in.\n",
    "decoder_inputs = Input(shape=(None, 1)) \n",
    "\n",
    "# We set up our decoder using `encoder_states` as initial state.  \n",
    "# We return full output sequences and return internal states as well. \n",
    "# We don't use the return states in the training model, but we will use them in inference.\n",
    "decoder_lstm = LSTM(latent_dim, dropout=dropout, return_sequences=True, return_state=True)\n",
    "decoder_outputs, _, _ = decoder_lstm(decoder_inputs,\n",
    "                                     initial_state=encoder_states)\n",
    "\n",
    "decoder_dense = Dense(1) # 1 continuous output at each timestep\n",
    "decoder_outputs = decoder_dense(decoder_outputs)\n",
    "\n",
    "# Define the model that will turn\n",
    "# `encoder_input_data` & `decoder_input_data` into `decoder_target_data`\n",
    "model = Model([encoder_inputs, decoder_inputs], decoder_outputs)"
   ]
  },
  {
   "cell_type": "code",
   "execution_count": 166,
   "metadata": {},
   "outputs": [
    {
     "name": "stdout",
     "output_type": "stream",
     "text": [
      "__________________________________________________________________________________________________\n",
      "Layer (type)                    Output Shape         Param #     Connected to                     \n",
      "==================================================================================================\n",
      "input_9 (InputLayer)            (None, None, 1)      0                                            \n",
      "__________________________________________________________________________________________________\n",
      "input_10 (InputLayer)           (None, None, 1)      0                                            \n",
      "__________________________________________________________________________________________________\n",
      "lstm_5 (LSTM)                   [(None, 50), (None,  10400       input_9[0][0]                    \n",
      "__________________________________________________________________________________________________\n",
      "lstm_6 (LSTM)                   [(None, None, 50), ( 10400       input_10[0][0]                   \n",
      "                                                                 lstm_5[0][1]                     \n",
      "                                                                 lstm_5[0][2]                     \n",
      "__________________________________________________________________________________________________\n",
      "dense_3 (Dense)                 (None, None, 1)      51          lstm_6[0][0]                     \n",
      "==================================================================================================\n",
      "Total params: 20,851\n",
      "Trainable params: 20,851\n",
      "Non-trainable params: 0\n",
      "__________________________________________________________________________________________________\n"
     ]
    }
   ],
   "source": [
    "model.summary()"
   ]
  },
  {
   "cell_type": "code",
   "execution_count": 167,
   "metadata": {},
   "outputs": [],
   "source": [
    "encoder_input_data = get_time_block_series(series_array, date_to_index, \n",
    "                                           train_enc_start, train_enc_end)"
   ]
  },
  {
   "cell_type": "code",
   "execution_count": 168,
   "metadata": {},
   "outputs": [
    {
     "data": {
      "text/plain": [
       "array([[[ 99],\n",
       "        [184],\n",
       "        [ 60],\n",
       "        ...,\n",
       "        [ 54],\n",
       "        [113],\n",
       "        [110]]])"
      ]
     },
     "execution_count": 168,
     "metadata": {},
     "output_type": "execute_result"
    }
   ],
   "source": [
    "encoder_input_data"
   ]
  },
  {
   "cell_type": "code",
   "execution_count": 169,
   "metadata": {},
   "outputs": [],
   "source": [
    "batch_size = 2**3\n",
    "epochs = 100\n",
    "\n",
    "# sample of series from train_enc_start to train_enc_end  \n",
    "encoder_input_data = get_time_block_series(series_array, date_to_index, \n",
    "                                           train_enc_start, train_enc_end)\n",
    "encoder_input_data, encode_series_mean = transform_series_encode(encoder_input_data)\n",
    "\n",
    "# sample of series from train_pred_start to train_pred_end \n",
    "decoder_target_data = get_time_block_series(series_array, date_to_index, \n",
    "                                            train_pred_start, train_pred_end)\n",
    "decoder_target_data = transform_series_decode(decoder_target_data, encode_series_mean)\n",
    "\n"
   ]
  },
  {
   "cell_type": "code",
   "execution_count": 170,
   "metadata": {},
   "outputs": [],
   "source": [
    "# lagged target series for teacher forcing\n",
    "decoder_input_data = np.zeros(decoder_target_data.shape)\n"
   ]
  },
  {
   "cell_type": "code",
   "execution_count": 171,
   "metadata": {},
   "outputs": [],
   "source": [
    "decoder_input_data[:,1:,0] = decoder_target_data[:,:-1,0]\n"
   ]
  },
  {
   "cell_type": "code",
   "execution_count": 172,
   "metadata": {},
   "outputs": [
    {
     "data": {
      "text/plain": [
       "array([[[-0.2027018 ],\n",
       "        [ 0.41248384],\n",
       "        [-0.69699812],\n",
       "        ...,\n",
       "        [-0.8005388 ],\n",
       "        [-0.07167354],\n",
       "        [-0.09834178]]])"
      ]
     },
     "execution_count": 172,
     "metadata": {},
     "output_type": "execute_result"
    }
   ],
   "source": [
    "encoder_input_data"
   ]
  },
  {
   "cell_type": "code",
   "execution_count": 173,
   "metadata": {},
   "outputs": [
    {
     "data": {
      "text/plain": [
       "array([[[0.]]])"
      ]
     },
     "execution_count": 173,
     "metadata": {},
     "output_type": "execute_result"
    }
   ],
   "source": [
    "decoder_input_data"
   ]
  },
  {
   "cell_type": "code",
   "execution_count": 174,
   "metadata": {},
   "outputs": [
    {
     "data": {
      "text/plain": [
       "array([[0.]])"
      ]
     },
     "execution_count": 174,
     "metadata": {},
     "output_type": "execute_result"
    }
   ],
   "source": [
    "decoder_input_data[:,:,0]"
   ]
  },
  {
   "cell_type": "code",
   "execution_count": 175,
   "metadata": {},
   "outputs": [
    {
     "data": {
      "text/plain": [
       "array([[-0.2027018 ,  0.41248384, -0.69699812, ..., -0.8005388 ,\n",
       "        -0.07167354, -0.09834178]])"
      ]
     },
     "execution_count": 175,
     "metadata": {},
     "output_type": "execute_result"
    }
   ],
   "source": [
    "encoder_input_data[:,:,0]"
   ]
  },
  {
   "cell_type": "code",
   "execution_count": 176,
   "metadata": {},
   "outputs": [],
   "source": [
    "decoder_input_data[:,0,0] = encoder_input_data[:,-1,0]"
   ]
  },
  {
   "cell_type": "code",
   "execution_count": 177,
   "metadata": {},
   "outputs": [
    {
     "name": "stdout",
     "output_type": "stream",
     "text": [
      "Epoch 1/100\n",
      "1/1 [==============================] - 5s 5s/step - loss: 0.5436\n",
      "Epoch 2/100\n",
      "1/1 [==============================] - 4s 4s/step - loss: 0.5277\n",
      "Epoch 3/100\n",
      "1/1 [==============================] - 4s 4s/step - loss: 0.4918\n",
      "Epoch 4/100\n",
      "1/1 [==============================] - 4s 4s/step - loss: 0.4878\n",
      "Epoch 5/100\n",
      "1/1 [==============================] - 4s 4s/step - loss: 0.4822\n",
      "Epoch 6/100\n",
      "1/1 [==============================] - 4s 4s/step - loss: 0.4577\n",
      "Epoch 7/100\n",
      "1/1 [==============================] - 4s 4s/step - loss: 0.4421\n",
      "Epoch 8/100\n",
      "1/1 [==============================] - 4s 4s/step - loss: 0.4242\n",
      "Epoch 9/100\n",
      "1/1 [==============================] - 4s 4s/step - loss: 0.4038\n",
      "Epoch 10/100\n",
      "1/1 [==============================] - 4s 4s/step - loss: 0.4379\n",
      "Epoch 11/100\n",
      "1/1 [==============================] - 4s 4s/step - loss: 0.3590\n",
      "Epoch 12/100\n",
      "1/1 [==============================] - 4s 4s/step - loss: 0.3369\n",
      "Epoch 13/100\n",
      "1/1 [==============================] - 4s 4s/step - loss: 0.3124\n",
      "Epoch 14/100\n",
      "1/1 [==============================] - 4s 4s/step - loss: 0.2905\n",
      "Epoch 15/100\n",
      "1/1 [==============================] - 4s 4s/step - loss: 0.3733\n",
      "Epoch 16/100\n",
      "1/1 [==============================] - 4s 4s/step - loss: 0.2263\n",
      "Epoch 17/100\n",
      "1/1 [==============================] - 4s 4s/step - loss: 0.1889\n",
      "Epoch 18/100\n",
      "1/1 [==============================] - 4s 4s/step - loss: 0.1446\n",
      "Epoch 19/100\n",
      "1/1 [==============================] - 4s 4s/step - loss: 0.1046\n",
      "Epoch 20/100\n",
      "1/1 [==============================] - 4s 4s/step - loss: 0.0327\n",
      "Epoch 21/100\n",
      "1/1 [==============================] - 4s 4s/step - loss: 0.0232\n",
      "Epoch 22/100\n",
      "1/1 [==============================] - 4s 4s/step - loss: 0.2001\n",
      "Epoch 23/100\n",
      "1/1 [==============================] - 4s 4s/step - loss: 0.1189\n",
      "Epoch 24/100\n",
      "1/1 [==============================] - 4s 4s/step - loss: 0.1578\n",
      "Epoch 25/100\n",
      "1/1 [==============================] - 4s 4s/step - loss: 0.1761\n",
      "Epoch 26/100\n",
      "1/1 [==============================] - 4s 4s/step - loss: 0.1318\n",
      "Epoch 27/100\n",
      "1/1 [==============================] - 4s 4s/step - loss: 0.1793\n",
      "Epoch 28/100\n",
      "1/1 [==============================] - 4s 4s/step - loss: 0.1237\n",
      "Epoch 29/100\n",
      "1/1 [==============================] - 4s 4s/step - loss: 0.1760\n",
      "Epoch 30/100\n",
      "1/1 [==============================] - 4s 4s/step - loss: 0.1590\n",
      "Epoch 31/100\n",
      "1/1 [==============================] - 4s 4s/step - loss: 0.1400\n",
      "Epoch 32/100\n",
      "1/1 [==============================] - 4s 4s/step - loss: 0.0940\n",
      "Epoch 33/100\n",
      "1/1 [==============================] - 4s 4s/step - loss: 0.0547\n",
      "Epoch 34/100\n",
      "1/1 [==============================] - 4s 4s/step - loss: 0.0174\n",
      "Epoch 35/100\n",
      "1/1 [==============================] - 4s 4s/step - loss: 0.2174\n",
      "Epoch 36/100\n",
      "1/1 [==============================] - 4s 4s/step - loss: 0.0461\n",
      "Epoch 37/100\n",
      "1/1 [==============================] - 4s 4s/step - loss: 0.0664\n",
      "Epoch 38/100\n",
      "1/1 [==============================] - 4s 4s/step - loss: 0.0760\n",
      "Epoch 39/100\n",
      "1/1 [==============================] - 4s 4s/step - loss: 0.0707\n",
      "Epoch 40/100\n",
      "1/1 [==============================] - 4s 4s/step - loss: 0.0819\n",
      "Epoch 41/100\n",
      "1/1 [==============================] - 4s 4s/step - loss: 0.0788\n",
      "Epoch 42/100\n",
      "1/1 [==============================] - 4s 4s/step - loss: 0.0704\n",
      "Epoch 43/100\n",
      "1/1 [==============================] - 4s 4s/step - loss: 0.0521\n",
      "Epoch 44/100\n",
      "1/1 [==============================] - 4s 4s/step - loss: 0.0382\n",
      "Epoch 45/100\n",
      "1/1 [==============================] - 4s 4s/step - loss: 0.0315\n",
      "Epoch 46/100\n",
      "1/1 [==============================] - 4s 4s/step - loss: 0.1955\n",
      "Epoch 47/100\n",
      "1/1 [==============================] - 4s 4s/step - loss: 0.1816\n",
      "Epoch 48/100\n",
      "1/1 [==============================] - 4s 4s/step - loss: 0.0417\n",
      "Epoch 49/100\n",
      "1/1 [==============================] - 4s 4s/step - loss: 0.0468\n",
      "Epoch 50/100\n",
      "1/1 [==============================] - 4s 4s/step - loss: 0.0553\n",
      "Epoch 51/100\n",
      "1/1 [==============================] - 4s 4s/step - loss: 0.0594\n",
      "Epoch 52/100\n",
      "1/1 [==============================] - 4s 4s/step - loss: 0.0627\n",
      "Epoch 53/100\n",
      "1/1 [==============================] - 4s 4s/step - loss: 0.0410\n",
      "Epoch 54/100\n",
      "1/1 [==============================] - 4s 4s/step - loss: 0.0378\n",
      "Epoch 55/100\n",
      "1/1 [==============================] - 4s 4s/step - loss: 0.0085\n",
      "Epoch 56/100\n",
      "1/1 [==============================] - 4s 4s/step - loss: 0.0114\n",
      "Epoch 57/100\n",
      "1/1 [==============================] - 4s 4s/step - loss: 0.0220\n",
      "Epoch 58/100\n",
      "1/1 [==============================] - 4s 4s/step - loss: 0.1948\n",
      "Epoch 59/100\n",
      "1/1 [==============================] - 4s 4s/step - loss: 0.0350\n",
      "Epoch 60/100\n",
      "1/1 [==============================] - 4s 4s/step - loss: 0.0248\n",
      "Epoch 61/100\n",
      "1/1 [==============================] - 4s 4s/step - loss: 0.0178\n",
      "Epoch 62/100\n",
      "1/1 [==============================] - 4s 4s/step - loss: 0.1858\n",
      "Epoch 63/100\n",
      "1/1 [==============================] - 4s 4s/step - loss: 0.0122\n",
      "Epoch 64/100\n",
      "1/1 [==============================] - 4s 4s/step - loss: 0.0116\n",
      "Epoch 65/100\n",
      "1/1 [==============================] - 4s 4s/step - loss: 0.0088\n",
      "Epoch 66/100\n",
      "1/1 [==============================] - 4s 4s/step - loss: 0.0115\n",
      "Epoch 67/100\n",
      "1/1 [==============================] - 4s 4s/step - loss: 0.0091\n",
      "Epoch 68/100\n",
      "1/1 [==============================] - 4s 4s/step - loss: 0.0050\n",
      "Epoch 69/100\n",
      "1/1 [==============================] - 4s 4s/step - loss: 0.0078\n",
      "Epoch 70/100\n",
      "1/1 [==============================] - 4s 4s/step - loss: 0.1712\n",
      "Epoch 71/100\n",
      "1/1 [==============================] - 4s 4s/step - loss: 0.0142\n",
      "Epoch 72/100\n",
      "1/1 [==============================] - 4s 4s/step - loss: 0.0069\n",
      "Epoch 73/100\n",
      "1/1 [==============================] - 4s 4s/step - loss: 0.0026\n",
      "Epoch 74/100\n",
      "1/1 [==============================] - 4s 4s/step - loss: 0.0056\n",
      "Epoch 75/100\n",
      "1/1 [==============================] - 4s 4s/step - loss: 0.1480\n",
      "Epoch 76/100\n",
      "1/1 [==============================] - 4s 4s/step - loss: 0.0210\n",
      "Epoch 77/100\n",
      "1/1 [==============================] - 4s 4s/step - loss: 0.0209\n",
      "Epoch 78/100\n",
      "1/1 [==============================] - 4s 4s/step - loss: 0.0206\n",
      "Epoch 79/100\n",
      "1/1 [==============================] - 4s 4s/step - loss: 0.0110\n",
      "Epoch 80/100\n",
      "1/1 [==============================] - 4s 4s/step - loss: 5.1379e-05\n",
      "Epoch 81/100\n",
      "1/1 [==============================] - 4s 4s/step - loss: 0.0135\n",
      "Epoch 82/100\n",
      "1/1 [==============================] - 4s 4s/step - loss: 0.0113\n",
      "Epoch 83/100\n",
      "1/1 [==============================] - 4s 4s/step - loss: 0.0245\n",
      "Epoch 84/100\n",
      "1/1 [==============================] - 4s 4s/step - loss: 0.0133\n",
      "Epoch 85/100\n",
      "1/1 [==============================] - 4s 4s/step - loss: 0.1615\n",
      "Epoch 86/100\n",
      "1/1 [==============================] - 4s 4s/step - loss: 0.1551\n",
      "Epoch 87/100\n",
      "1/1 [==============================] - 4s 4s/step - loss: 0.0011\n",
      "Epoch 88/100\n",
      "1/1 [==============================] - 4s 4s/step - loss: 0.0145\n",
      "Epoch 89/100\n",
      "1/1 [==============================] - 4s 4s/step - loss: 0.0334\n",
      "Epoch 90/100\n",
      "1/1 [==============================] - 4s 4s/step - loss: 0.0338\n",
      "Epoch 91/100\n",
      "1/1 [==============================] - 4s 4s/step - loss: 0.0207\n",
      "Epoch 92/100\n",
      "1/1 [==============================] - 4s 4s/step - loss: 0.1314\n",
      "Epoch 93/100\n",
      "1/1 [==============================] - 4s 4s/step - loss: 0.0075\n",
      "Epoch 94/100\n",
      "1/1 [==============================] - 4s 4s/step - loss: 0.0035\n",
      "Epoch 95/100\n",
      "1/1 [==============================] - 4s 4s/step - loss: 0.0099\n",
      "Epoch 96/100\n",
      "1/1 [==============================] - 4s 4s/step - loss: 0.1457\n",
      "Epoch 97/100\n",
      "1/1 [==============================] - 4s 4s/step - loss: 0.0180\n",
      "Epoch 98/100\n",
      "1/1 [==============================] - 4s 4s/step - loss: 0.0162\n",
      "Epoch 99/100\n",
      "1/1 [==============================] - 4s 4s/step - loss: 0.0057\n",
      "Epoch 100/100\n",
      "1/1 [==============================] - 4s 4s/step - loss: 0.0085\n"
     ]
    }
   ],
   "source": [
    "model.compile(Adam(), loss='mean_absolute_error')\n",
    "history = model.fit([encoder_input_data, decoder_input_data], decoder_target_data,\n",
    "                     batch_size=batch_size,\n",
    "                     epochs=epochs)"
   ]
  },
  {
   "cell_type": "code",
   "execution_count": 178,
   "metadata": {},
   "outputs": [
    {
     "data": {
      "text/plain": [
       "<matplotlib.legend.Legend at 0x7f025834a908>"
      ]
     },
     "execution_count": 178,
     "metadata": {},
     "output_type": "execute_result"
    },
    {
     "data": {
      "image/png": "[encoded data removed]",
      "text/plain": [
       "<Figure size 432x288 with 1 Axes>"
      ]
     },
     "metadata": {},
     "output_type": "display_data"
    }
   ],
   "source": [
    "plt.plot(history.history['loss'])\n",
    "#plt.plot(history.history['val_loss'])\n",
    "\n",
    "plt.xlabel('Epoch')\n",
    "plt.ylabel('Mean Absolute Error Loss')\n",
    "plt.title('Loss Over Time')\n",
    "plt.legend(['Train','Valid'])"
   ]
  },
  {
   "cell_type": "markdown",
   "metadata": {},
   "source": [
    "# Build Inference Model"
   ]
  },
  {
   "cell_type": "code",
   "execution_count": 179,
   "metadata": {},
   "outputs": [],
   "source": [
    "# from our previous model - mapping encoder sequence to state vectors\n",
    "encoder_model = Model(encoder_inputs, encoder_states)\n",
    "\n",
    "# A modified version of the decoding stage that takes in predicted target inputs\n",
    "# and encoded state vectors, returning predicted target outputs and decoder state vectors.\n",
    "# We need to hang onto these state vectors to run the next step of the inference loop.\n",
    "decoder_state_input_h = Input(shape=(latent_dim,))\n",
    "decoder_state_input_c = Input(shape=(latent_dim,))\n",
    "decoder_states_inputs = [decoder_state_input_h, decoder_state_input_c]\n",
    "\n",
    "decoder_outputs, state_h, state_c = decoder_lstm(decoder_inputs, initial_state=decoder_states_inputs)\n",
    "decoder_states = [state_h, state_c]\n",
    "\n",
    "decoder_outputs = decoder_dense(decoder_outputs)\n",
    "decoder_model = Model([decoder_inputs] + decoder_states_inputs,\n",
    "                      [decoder_outputs] + decoder_states)\n",
    "\n",
    "def decode_sequence(input_seq):\n",
    "    \n",
    "    # Encode the input as state vectors.\n",
    "    states_value = encoder_model.predict(input_seq)\n",
    "\n",
    "    # Generate empty target sequence of length 1.\n",
    "    target_seq = np.zeros((1, 1, 1))\n",
    "    \n",
    "    # Populate the first target sequence with end of encoding series pageviews\n",
    "    target_seq[0, 0, 0] = input_seq[0, -1, 0]\n",
    "\n",
    "    # Sampling loop for a batch of sequences - we will fill decoded_seq with predictions\n",
    "    # (to simplify, here we assume a batch of size 1).\n",
    "\n",
    "    decoded_seq = np.zeros((1,pred_steps,1))\n",
    "    \n",
    "    for i in range(pred_steps):\n",
    "        \n",
    "        output, h, c = decoder_model.predict([target_seq] + states_value)\n",
    "        \n",
    "        decoded_seq[0,i,0] = output[0,0,0]\n",
    "\n",
    "        # Update the target sequence (of length 1).\n",
    "        target_seq = np.zeros((1, 1, 1))\n",
    "        target_seq[0, 0, 0] = output[0,0,0]\n",
    "\n",
    "        # Update states\n",
    "        states_value = [h, c]\n",
    "\n",
    "    return decoded_seq"
   ]
  },
  {
   "cell_type": "code",
   "execution_count": 180,
   "metadata": {},
   "outputs": [],
   "source": [
    "encoder_input_data = get_time_block_series(series_array, date_to_index, val_enc_start, val_enc_end)\n",
    "encoder_input_data, encode_series_mean = transform_series_encode(encoder_input_data)\n",
    "\n",
    "decoder_target_data = get_time_block_series(series_array, date_to_index, val_pred_start, val_pred_end)\n",
    "decoder_target_data = transform_series_decode(decoder_target_data, encode_series_mean)"
   ]
  },
  {
   "cell_type": "code",
   "execution_count": 227,
   "metadata": {},
   "outputs": [],
   "source": [
    "def predict_and_plot(encoder_input_data, decoder_target_data, sample_ind, enc_tail_len=50):\n",
    "\n",
    "    \n",
    "    \n",
    "    \n",
    "    encode_series = encoder_input_data[sample_ind:sample_ind+1,:,:] \n",
    "    pred_series = decode_sequence(encode_series)\n",
    "    \n",
    "    encode_series = encode_series.reshape(-1,1)\n",
    "    pred_series = pred_series.reshape(-1,1)   \n",
    "    target_series = decoder_target_data[sample_ind,:,:1].reshape(-1,1) \n",
    "    \n",
    "    target_series = target_series.flatten()\n",
    "\n",
    "    encode_series = encode_series.flatten()\n",
    "    print(pred_series)\n",
    "    \n",
    "    encode_series_tail = np.concatenate([encode_series[-enc_tail_len:],target_series[:1]])\n",
    "    x_encode = encode_series_tail.shape[0]\n",
    "    \n",
    "    \n",
    "    plt.figure(figsize=(10,6))   \n",
    "    \n",
    "    plt.plot(range(1,x_encode+1),np.exp(encode_series_tail))\n",
    "    plt.plot(range(x_encode,x_encode+pred_steps),np.exp(target_series[:-1]),color='orange')\n",
    "    plt.plot(range(x_encode,x_encode+pred_steps),np.exp(pred_series),color='teal',linestyle='--')\n",
    "    \n",
    "    plt.title('Encoder Series Tail of Length %d, Target Series, and Predictions' % enc_tail_len)\n",
    "    plt.legend(['Encoding Series','Target Series','Predictions'])"
   ]
  },
  {
   "cell_type": "code",
   "execution_count": 228,
   "metadata": {},
   "outputs": [
    {
     "name": "stdout",
     "output_type": "stream",
     "text": [
      "[[0.3865231 ]\n",
      " [0.38413453]\n",
      " [0.38230279]\n",
      " [0.38121134]\n",
      " [0.38044554]\n",
      " [0.37974289]\n",
      " [0.37896279]\n",
      " [0.37805033]\n",
      " [0.37700412]\n",
      " [0.37585175]\n",
      " [0.37463278]\n",
      " [0.37338826]\n",
      " [0.37215492]\n",
      " [0.37096256]\n",
      " [0.36983341]\n",
      " [0.36878243]\n",
      " [0.36781821]\n",
      " [0.36694464]\n",
      " [0.3661615 ]\n",
      " [0.36546594]\n",
      " [0.36485299]\n",
      " [0.36431685]\n",
      " [0.36385062]\n",
      " [0.36344752]]\n"
     ]
    },
    {
     "data": {
      "image/png": "[encoded data removed]",
      "text/plain": [
       "<Figure size 720x432 with 1 Axes>"
      ]
     },
     "metadata": {},
     "output_type": "display_data"
    }
   ],
   "source": [
    "predict_and_plot(encoder_input_data, decoder_target_data, 0)"
   ]
  },
  {
   "cell_type": "code",
   "execution_count": null,
   "metadata": {},
   "outputs": [],
   "source": []
  },
  {
   "cell_type": "code",
   "execution_count": null,
   "metadata": {},
   "outputs": [],
   "source": []
  }
 ],
 "metadata": {
  "kernelspec": {
   "display_name": "Python 3",
   "language": "python",
   "name": "python3"
  },
  "language_info": {
   "codemirror_mode": {
    "name": "ipython",
    "version": 3
   },
   "file_extension": ".py",
   "mimetype": "text/x-python",
   "name": "python",
   "nbconvert_exporter": "python",
   "pygments_lexer": "ipython3",
   "version": "3.6.5"
  }
 },
 "nbformat": 4,
 "nbformat_minor": 1
}
